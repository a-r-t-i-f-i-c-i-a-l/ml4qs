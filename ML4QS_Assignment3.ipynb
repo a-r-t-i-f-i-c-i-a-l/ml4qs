{
  "nbformat": 4,
  "nbformat_minor": 0,
  "metadata": {
    "colab": {
      "name": "ML4QS_Assignment3.ipynb",
      "provenance": [],
      "collapsed_sections": [],
      "authorship_tag": "ABX9TyMWHzgRObYHqKkn3onkUsRa",
      "include_colab_link": true
    },
    "kernelspec": {
      "name": "python3",
      "display_name": "Python 3"
    },
    "language_info": {
      "name": "python"
    }
  },
  "cells": [
    {
      "cell_type": "markdown",
      "metadata": {
        "id": "view-in-github",
        "colab_type": "text"
      },
      "source": [
        "<a href=\"https://colab.research.google.com/github/a-r-t-i-f-i-c-i-a-l/ml4qs/blob/master/ML4QS_Assignment3.ipynb\" target=\"_parent\"><img src=\"https://colab.research.google.com/assets/colab-badge.svg\" alt=\"Open In Colab\"/></a>"
      ]
    },
    {
      "cell_type": "code",
      "metadata": {
        "colab": {
          "base_uri": "https://localhost:8080/"
        },
        "id": "GvrXigH5DGT9",
        "outputId": "b7a37745-c648-4e7a-a429-ed3258cf649a"
      },
      "source": [
        "!wget http://wifo5-14.informatik.uni-mannheim.de/sensor/dataset/dailylog2016/dailylog2016_dataset.zip"
      ],
      "execution_count": 1,
      "outputs": [
        {
          "output_type": "stream",
          "text": [
            "--2021-06-15 16:25:08--  http://wifo5-14.informatik.uni-mannheim.de/sensor/dataset/dailylog2016/dailylog2016_dataset.zip\n",
            "Resolving wifo5-14.informatik.uni-mannheim.de (wifo5-14.informatik.uni-mannheim.de)... 134.155.95.56\n",
            "Connecting to wifo5-14.informatik.uni-mannheim.de (wifo5-14.informatik.uni-mannheim.de)|134.155.95.56|:80... connected.\n",
            "HTTP request sent, awaiting response... 200 OK\n",
            "Length: 4944490674 (4.6G) [application/zip]\n",
            "Saving to: ‘dailylog2016_dataset.zip.1’\n",
            "\n",
            "dailylog2016_datase 100%[===================>]   4.60G  27.6MB/s    in 2m 52s  \n",
            "\n",
            "2021-06-15 16:28:00 (27.5 MB/s) - ‘dailylog2016_dataset.zip.1’ saved [4944490674/4944490674]\n",
            "\n"
          ],
          "name": "stdout"
        }
      ]
    },
    {
      "cell_type": "code",
      "metadata": {
        "colab": {
          "base_uri": "https://localhost:8080/"
        },
        "id": "FoXZxqrbEVX_",
        "outputId": "492ee4fa-b379-4e9b-f5f2-6e1b5ad01a2f"
      },
      "source": [
        "!unzip -o dailylog2016_dataset.zip -d dailylog_data/"
      ],
      "execution_count": 2,
      "outputs": [
        {
          "output_type": "stream",
          "text": [
            "Archive:  dailylog2016_dataset.zip\n",
            "  inflating: dailylog_data/subject7/images/process_small.png  \n",
            " extracting: dailylog_data/subject7/images/preview.png  \n",
            "  inflating: dailylog_data/subject7/images/process_large.png  \n",
            "  inflating: dailylog_data/subject7/data/process.pdf  \n",
            "  inflating: dailylog_data/subject7/data/gps_csv.zip  \n",
            "  inflating: dailylog_data/subject7/data/ori_csv.zip  \n",
            "  inflating: dailylog_data/subject7/data/posture.csv  \n",
            "  inflating: dailylog_data/subject7/data/activity.csv  \n",
            "  inflating: dailylog_data/subject7/data/acc_csv.zip  \n",
            "  inflating: dailylog_data/subject7/data/environment.csv  \n",
            "  inflating: dailylog_data/subject7/data/activity.xes  \n",
            "  inflating: dailylog_data/subject5/images/process_small.png  \n",
            " extracting: dailylog_data/subject5/images/preview.png  \n",
            "  inflating: dailylog_data/subject5/images/process_large.png  \n",
            "  inflating: dailylog_data/subject5/data/process.pdf  \n",
            "  inflating: dailylog_data/subject5/data/posture.csv  \n",
            "  inflating: dailylog_data/subject5/data/activity.csv  \n",
            "  inflating: dailylog_data/subject5/data/environment.csv  \n",
            "  inflating: dailylog_data/subject5/data/activity.xes  \n",
            "  inflating: dailylog_data/subject2/images/process_small.png  \n",
            " extracting: dailylog_data/subject2/images/preview.png  \n",
            "  inflating: dailylog_data/subject2/images/process_large.png  \n",
            "  inflating: dailylog_data/subject2/data/gps_csv.zip  \n",
            "  inflating: dailylog_data/subject2/data/posture.pdf  \n",
            "  inflating: dailylog_data/subject2/data/ori_csv.zip  \n",
            "  inflating: dailylog_data/subject2/data/posture.csv  \n",
            "  inflating: dailylog_data/subject2/data/activity.csv  \n",
            "  inflating: dailylog_data/subject2/data/acc_csv.zip  \n",
            "  inflating: dailylog_data/subject2/data/environment.csv  \n",
            "  inflating: dailylog_data/subject2/data/activity.xes  \n",
            "  inflating: dailylog_data/subject4/images/process_small.png  \n",
            " extracting: dailylog_data/subject4/images/preview.png  \n",
            "  inflating: dailylog_data/subject4/images/process_large.png  \n",
            "  inflating: dailylog_data/subject4/data/process.pdf  \n",
            "  inflating: dailylog_data/subject4/data/gps_csv.zip  \n",
            "  inflating: dailylog_data/subject4/data/ori_csv.zip  \n",
            "  inflating: dailylog_data/subject4/data/posture.csv  \n",
            "  inflating: dailylog_data/subject4/data/activity.csv  \n",
            "  inflating: dailylog_data/subject4/data/acc_csv.zip  \n",
            "  inflating: dailylog_data/subject4/data/environment.csv  \n",
            "  inflating: dailylog_data/subject4/data/activity.xes  \n",
            "  inflating: dailylog_data/subject3/images/process_small.png  \n",
            " extracting: dailylog_data/subject3/images/preview.png  \n",
            "  inflating: dailylog_data/subject3/images/process_large.png  \n",
            "  inflating: dailylog_data/subject3/data/process.pdf  \n",
            "  inflating: dailylog_data/subject3/data/gps_csv.zip  \n",
            "  inflating: dailylog_data/subject3/data/ori_csv.zip  \n",
            "  inflating: dailylog_data/subject3/data/posture.csv  \n",
            "  inflating: dailylog_data/subject3/data/activity.csv  \n",
            "  inflating: dailylog_data/subject3/data/acc_csv.zip  \n",
            "  inflating: dailylog_data/subject3/data/environment.csv  \n",
            "  inflating: dailylog_data/subject3/data/activity.xes  \n",
            "  inflating: dailylog_data/subject1/images/process_small.png  \n",
            " extracting: dailylog_data/subject1/images/preview.png  \n",
            "  inflating: dailylog_data/subject1/images/process_large.png  \n",
            "  inflating: dailylog_data/subject1/data/process.pdf  \n",
            "  inflating: dailylog_data/subject1/data/gps_csv.zip  \n",
            "  inflating: dailylog_data/subject1/data/ori_csv.zip  \n",
            "  inflating: dailylog_data/subject1/data/posture.csv  \n",
            "  inflating: dailylog_data/subject1/data/activity.csv  \n",
            "  inflating: dailylog_data/subject1/data/acc_csv.zip  \n",
            "  inflating: dailylog_data/subject1/data/environment.csv  \n",
            "  inflating: dailylog_data/subject1/data/activity.xes  \n",
            "  inflating: dailylog_data/subject6/images/process_small.png  \n",
            " extracting: dailylog_data/subject6/images/preview.png  \n",
            "  inflating: dailylog_data/subject6/images/process_large.png  \n",
            "  inflating: dailylog_data/subject6/data/process.pdf  \n",
            "  inflating: dailylog_data/subject6/data/gps_csv.zip  \n",
            "  inflating: dailylog_data/subject6/data/ori_csv.zip  \n",
            "  inflating: dailylog_data/subject6/data/posture.csv  \n",
            "  inflating: dailylog_data/subject6/data/activity.csv  \n",
            "  inflating: dailylog_data/subject6/data/acc_csv.zip  \n",
            "  inflating: dailylog_data/subject6/data/environment.csv  \n",
            "  inflating: dailylog_data/subject6/data/activity.xes  \n"
          ],
          "name": "stdout"
        }
      ]
    },
    {
      "cell_type": "code",
      "metadata": {
        "colab": {
          "base_uri": "https://localhost:8080/"
        },
        "id": "yCI6FIrIX3n4",
        "outputId": "b8379849-b8f3-478e-8dd7-3719683b3463"
      },
      "source": [
        "for i in range(1,8):\n",
        "  !unzip -o dailylog_data/subject$i/data/ori_csv.zip -d dailylog_data/subject$i/data/"
      ],
      "execution_count": 4,
      "outputs": [
        {
          "output_type": "stream",
          "text": [
            "Archive:  dailylog_data/subject1/data/ori_csv.zip\n",
            "  inflating: dailylog_data/subject1/data/SensorOrientationData_labeled_day10.csv  \n",
            "  inflating: dailylog_data/subject1/data/SensorOrientationData_labeled_day11.csv  \n",
            "  inflating: dailylog_data/subject1/data/SensorOrientationData_labeled_day12.csv  \n",
            "  inflating: dailylog_data/subject1/data/SensorOrientationData_labeled_day13.csv  \n",
            "  inflating: dailylog_data/subject1/data/SensorOrientationData_labeled_day14.csv  \n",
            "  inflating: dailylog_data/subject1/data/SensorOrientationData_labeled_day1.csv  \n",
            "  inflating: dailylog_data/subject1/data/SensorOrientationData_labeled_day2.csv  \n",
            "  inflating: dailylog_data/subject1/data/SensorOrientationData_labeled_day3.csv  \n",
            "  inflating: dailylog_data/subject1/data/SensorOrientationData_labeled_day4.csv  \n",
            "  inflating: dailylog_data/subject1/data/SensorOrientationData_labeled_day6.csv  \n",
            "  inflating: dailylog_data/subject1/data/SensorOrientationData_labeled_day7.csv  \n",
            "  inflating: dailylog_data/subject1/data/SensorOrientationData_labeled_day8.csv  \n",
            "  inflating: dailylog_data/subject1/data/SensorOrientationData_labeled_day9.csv  \n",
            "Archive:  dailylog_data/subject2/data/ori_csv.zip\n",
            "  inflating: dailylog_data/subject2/data/SensorOrientationData_labeled_day12.csv  \n",
            "  inflating: dailylog_data/subject2/data/SensorOrientationData_labeled_day13.csv  \n",
            "  inflating: dailylog_data/subject2/data/SensorOrientationData_labeled_day15.csv  \n",
            "  inflating: dailylog_data/subject2/data/SensorOrientationData_labeled_day16.csv  \n",
            "  inflating: dailylog_data/subject2/data/SensorOrientationData_labeled_day1.csv  \n",
            "  inflating: dailylog_data/subject2/data/SensorOrientationData_labeled_day2.csv  \n",
            "  inflating: dailylog_data/subject2/data/SensorOrientationData_labeled_day3.csv  \n",
            "  inflating: dailylog_data/subject2/data/SensorOrientationData_labeled_day4.csv  \n",
            "  inflating: dailylog_data/subject2/data/SensorOrientationData_labeled_day5.csv  \n",
            "  inflating: dailylog_data/subject2/data/SensorOrientationData_labeled_day6.csv  \n",
            "  inflating: dailylog_data/subject2/data/SensorOrientationData_labeled_day7.csv  \n",
            "  inflating: dailylog_data/subject2/data/SensorOrientationData_labeled_day8.csv  \n",
            "  inflating: dailylog_data/subject2/data/SensorOrientationData_labeled_day9.csv  \n",
            "Archive:  dailylog_data/subject3/data/ori_csv.zip\n",
            "  inflating: dailylog_data/subject3/data/SensorOrientationData_labeled_day10.csv  \n",
            "  inflating: dailylog_data/subject3/data/SensorOrientationData_labeled_day1.csv  \n",
            "  inflating: dailylog_data/subject3/data/SensorOrientationData_labeled_day2.csv  \n",
            "  inflating: dailylog_data/subject3/data/SensorOrientationData_labeled_day3.csv  \n",
            "  inflating: dailylog_data/subject3/data/SensorOrientationData_labeled_day4.csv  \n",
            "  inflating: dailylog_data/subject3/data/SensorOrientationData_labeled_day5.csv  \n",
            "  inflating: dailylog_data/subject3/data/SensorOrientationData_labeled_day6.csv  \n",
            "  inflating: dailylog_data/subject3/data/SensorOrientationData_labeled_day7.csv  \n",
            "  inflating: dailylog_data/subject3/data/SensorOrientationData_labeled_day8.csv  \n",
            "  inflating: dailylog_data/subject3/data/SensorOrientationData_labeled_day9.csv  \n",
            "Archive:  dailylog_data/subject4/data/ori_csv.zip\n",
            "  inflating: dailylog_data/subject4/data/SensorOrientationData_labeled_day10.csv  \n",
            "  inflating: dailylog_data/subject4/data/SensorOrientationData_labeled_day11.csv  \n",
            "  inflating: dailylog_data/subject4/data/SensorOrientationData_labeled_day12.csv  \n",
            "  inflating: dailylog_data/subject4/data/SensorOrientationData_labeled_day1.csv  \n",
            "  inflating: dailylog_data/subject4/data/SensorOrientationData_labeled_day2.csv  \n",
            "  inflating: dailylog_data/subject4/data/SensorOrientationData_labeled_day3.csv  \n",
            "  inflating: dailylog_data/subject4/data/SensorOrientationData_labeled_day4.csv  \n",
            "  inflating: dailylog_data/subject4/data/SensorOrientationData_labeled_day5.csv  \n",
            "  inflating: dailylog_data/subject4/data/SensorOrientationData_labeled_day6.csv  \n",
            "  inflating: dailylog_data/subject4/data/SensorOrientationData_labeled_day7.csv  \n",
            "  inflating: dailylog_data/subject4/data/SensorOrientationData_labeled_day8.csv  \n",
            "  inflating: dailylog_data/subject4/data/SensorOrientationData_labeled_day9.csv  \n",
            "unzip:  cannot find or open dailylog_data/subject5/data/ori_csv.zip, dailylog_data/subject5/data/ori_csv.zip.zip or dailylog_data/subject5/data/ori_csv.zip.ZIP.\n",
            "Archive:  dailylog_data/subject6/data/ori_csv.zip\n",
            "  inflating: dailylog_data/subject6/data/SensorOrientationData_labeled_day1.csv  \n",
            "  inflating: dailylog_data/subject6/data/SensorOrientationData_labeled_day2.csv  \n",
            "  inflating: dailylog_data/subject6/data/SensorOrientationData_labeled_day3.csv  \n",
            "  inflating: dailylog_data/subject6/data/SensorOrientationData_labeled_day4.csv  \n",
            "  inflating: dailylog_data/subject6/data/SensorOrientationData_labeled_day5.csv  \n",
            "  inflating: dailylog_data/subject6/data/SensorOrientationData_labeled_day6.csv  \n",
            "  inflating: dailylog_data/subject6/data/SensorOrientationData_labeled_day7.csv  \n",
            "  inflating: dailylog_data/subject6/data/SensorOrientationData_labeled_day8.csv  \n",
            "  inflating: dailylog_data/subject6/data/SensorOrientationData_labeled_day9.csv  \n",
            "Archive:  dailylog_data/subject7/data/ori_csv.zip\n",
            "  inflating: dailylog_data/subject7/data/SensorOrientationData_labeled_day10.csv  \n",
            "  inflating: dailylog_data/subject7/data/SensorOrientationData_labeled_day11.csv  \n",
            "  inflating: dailylog_data/subject7/data/SensorOrientationData_labeled_day1.csv  \n",
            "  inflating: dailylog_data/subject7/data/SensorOrientationData_labeled_day2.csv  \n",
            "  inflating: dailylog_data/subject7/data/SensorOrientationData_labeled_day3.csv  \n",
            "  inflating: dailylog_data/subject7/data/SensorOrientationData_labeled_day4.csv  \n",
            "  inflating: dailylog_data/subject7/data/SensorOrientationData_labeled_day5.csv  \n",
            "  inflating: dailylog_data/subject7/data/SensorOrientationData_labeled_day6.csv  \n",
            "  inflating: dailylog_data/subject7/data/SensorOrientationData_labeled_day7.csv  \n",
            "  inflating: dailylog_data/subject7/data/SensorOrientationData_labeled_day8.csv  \n",
            "  inflating: dailylog_data/subject7/data/SensorOrientationData_labeled_day9.csv  \n"
          ],
          "name": "stdout"
        }
      ]
    },
    {
      "cell_type": "code",
      "metadata": {
        "id": "iEypf4JGEtJQ"
      },
      "source": [
        "import pandas as pd\n",
        "import numpy as np\n",
        "import sklearn\n",
        "import matplotlib.pyplot as plt\n",
        "import sklearn.preprocessing\n",
        "import xgboost\n",
        "from copy import deepcopy"
      ],
      "execution_count": 40,
      "outputs": []
    },
    {
      "cell_type": "code",
      "metadata": {
        "id": "He80xf-GE0cR",
        "colab": {
          "base_uri": "https://localhost:8080/"
        },
        "outputId": "0b670ea1-0ef7-4ed8-bc7b-f00401c83bda"
      },
      "source": [
        "combined_dfs = []\n",
        "for s in range(1, 8): #for every subject\n",
        "  dir = 'dailylog_data/subject{0}/data/'.format(s)\n",
        "  dfs = []\n",
        "  read_days = 0\n",
        "  i = 1\n",
        "  while i <= 13 and read_days <= 1: #for first 1 days of observation\n",
        "    filename = 'SensorOrientationData_labeled_day{0}.csv'.format(i)\n",
        "    path = dir + filename\n",
        "    try:\n",
        "      df = pd.read_csv(path) #read in data from csv\n",
        "      df = df.iloc[::5]\n",
        "      df = df[df.label_valid == True]\n",
        "      dfs.append(df)\n",
        "      read_days += 1\n",
        "    except FileNotFoundError:\n",
        "      print('Skipping day {0} for subject {1}'.format(i, s))\n",
        "    i += 1\n",
        "    \n",
        "  if len(dfs) > 0:  \n",
        "    combined = pd.concat(dfs) #concatenate all days into a single dataframe\n",
        "    combined['subject'] = s #add a column identifying the subject\n",
        "    combined_dfs.append(combined) #add dataframe to list of combined dataframes\n",
        "\n",
        "    \n",
        "    "
      ],
      "execution_count": 25,
      "outputs": [
        {
          "output_type": "stream",
          "text": [
            "Skipping day 1 for subject 5\n",
            "Skipping day 2 for subject 5\n",
            "Skipping day 3 for subject 5\n",
            "Skipping day 4 for subject 5\n",
            "Skipping day 5 for subject 5\n",
            "Skipping day 6 for subject 5\n",
            "Skipping day 7 for subject 5\n",
            "Skipping day 8 for subject 5\n",
            "Skipping day 9 for subject 5\n",
            "Skipping day 10 for subject 5\n",
            "Skipping day 11 for subject 5\n",
            "Skipping day 12 for subject 5\n",
            "Skipping day 13 for subject 5\n"
          ],
          "name": "stdout"
        }
      ]
    },
    {
      "cell_type": "code",
      "metadata": {
        "id": "IVHd3Wg2zDW6"
      },
      "source": [
        "train_df = pd.concat(combined_dfs)"
      ],
      "execution_count": 27,
      "outputs": []
    },
    {
      "cell_type": "code",
      "metadata": {
        "colab": {
          "base_uri": "https://localhost:8080/"
        },
        "id": "Sjn2b-WOEuSt",
        "outputId": "c1a0fd12-65b3-413f-8e16-02269638eea0"
      },
      "source": [
        "label_enc = sklearn.preprocessing.LabelEncoder()\n",
        "label_enc.fit(train_df.label_activity.unique())\n"
      ],
      "execution_count": 31,
      "outputs": [
        {
          "output_type": "execute_result",
          "data": {
            "text/plain": [
              "LabelEncoder()"
            ]
          },
          "metadata": {
            "tags": []
          },
          "execution_count": 31
        }
      ]
    },
    {
      "cell_type": "code",
      "metadata": {
        "id": "cwqXfRCqHQ7f"
      },
      "source": [
        "train_df['activity_target'] = label_enc.transform(train_df.label_activity)"
      ],
      "execution_count": 32,
      "outputs": []
    },
    {
      "cell_type": "code",
      "metadata": {
        "id": "y9wvrI7GIJVX"
      },
      "source": [
        "enviro_enc = sklearn.preprocessing.LabelEncoder()\n",
        "enviro_enc.fit(train_df.label_environment)\n",
        "train_df['label_environment_enc'] = enviro_enc.transform(train_df.label_environment)"
      ],
      "execution_count": 35,
      "outputs": []
    },
    {
      "cell_type": "code",
      "metadata": {
        "id": "Tn3hzq26HarB"
      },
      "source": [
        "devicepos_enc = sklearn.preprocessing.LabelEncoder()\n",
        "devicepos_enc.fit(train_df.label_deviceposition)\n",
        "train_df['label_deviceposition_enc'] = devicepos_enc.transform(train_df.label_deviceposition)"
      ],
      "execution_count": 38,
      "outputs": []
    },
    {
      "cell_type": "code",
      "metadata": {
        "id": "bP9kD9jFIx6t"
      },
      "source": [
        "posture_enc = sklearn.preprocessing.LabelEncoder()\n",
        "posture_enc.fit(train_df.label_posture)\n",
        "train_df['label_posture_enc'] = posture_enc.transform(train_df.label_posture)"
      ],
      "execution_count": 39,
      "outputs": []
    },
    {
      "cell_type": "code",
      "metadata": {
        "id": "uya7ds-iJINu"
      },
      "source": [
        "train_df_enc = deepcopy(train_df)\n",
        "train_df_enc.drop(columns=['label_activity', 'label_environment', 'label_deviceposition', 'label_posture', 'label_valid', 'subject', 'id'], inplace=True)"
      ],
      "execution_count": 45,
      "outputs": []
    },
    {
      "cell_type": "code",
      "metadata": {
        "colab": {
          "base_uri": "https://localhost:8080/",
          "height": 424
        },
        "id": "kCyQykZ8JrXG",
        "outputId": "661077e9-4531-4d98-c2f4-f24be03ce843"
      },
      "source": [
        "train_df_enc"
      ],
      "execution_count": 46,
      "outputs": [
        {
          "output_type": "execute_result",
          "data": {
            "text/html": [
              "<div>\n",
              "<style scoped>\n",
              "    .dataframe tbody tr th:only-of-type {\n",
              "        vertical-align: middle;\n",
              "    }\n",
              "\n",
              "    .dataframe tbody tr th {\n",
              "        vertical-align: top;\n",
              "    }\n",
              "\n",
              "    .dataframe thead th {\n",
              "        text-align: right;\n",
              "    }\n",
              "</style>\n",
              "<table border=\"1\" class=\"dataframe\">\n",
              "  <thead>\n",
              "    <tr style=\"text-align: right;\">\n",
              "      <th></th>\n",
              "      <th>attr_time</th>\n",
              "      <th>attr_azimuth</th>\n",
              "      <th>attr_pitch</th>\n",
              "      <th>attr_roll</th>\n",
              "      <th>activity_target</th>\n",
              "      <th>label_environment_enc</th>\n",
              "      <th>label_deviceposition_enc</th>\n",
              "      <th>label_posture_enc</th>\n",
              "    </tr>\n",
              "  </thead>\n",
              "  <tbody>\n",
              "    <tr>\n",
              "      <th>0</th>\n",
              "      <td>11.03.15 07:58:37.607</td>\n",
              "      <td>247.140260</td>\n",
              "      <td>-24.173317</td>\n",
              "      <td>-5.357847</td>\n",
              "      <td>23</td>\n",
              "      <td>13</td>\n",
              "      <td>9</td>\n",
              "      <td>16</td>\n",
              "    </tr>\n",
              "    <tr>\n",
              "      <th>5</th>\n",
              "      <td>11.03.15 07:58:37.706</td>\n",
              "      <td>231.732710</td>\n",
              "      <td>-23.204926</td>\n",
              "      <td>-4.549244</td>\n",
              "      <td>23</td>\n",
              "      <td>13</td>\n",
              "      <td>9</td>\n",
              "      <td>16</td>\n",
              "    </tr>\n",
              "    <tr>\n",
              "      <th>10</th>\n",
              "      <td>11.03.15 07:58:37.811</td>\n",
              "      <td>204.415080</td>\n",
              "      <td>-21.849115</td>\n",
              "      <td>-4.396296</td>\n",
              "      <td>23</td>\n",
              "      <td>13</td>\n",
              "      <td>9</td>\n",
              "      <td>16</td>\n",
              "    </tr>\n",
              "    <tr>\n",
              "      <th>15</th>\n",
              "      <td>11.03.15 07:58:37.906</td>\n",
              "      <td>195.771030</td>\n",
              "      <td>-20.247486</td>\n",
              "      <td>-4.261816</td>\n",
              "      <td>23</td>\n",
              "      <td>13</td>\n",
              "      <td>9</td>\n",
              "      <td>16</td>\n",
              "    </tr>\n",
              "    <tr>\n",
              "      <th>20</th>\n",
              "      <td>11.03.15 07:58:38.013</td>\n",
              "      <td>193.098900</td>\n",
              "      <td>-19.093735</td>\n",
              "      <td>-4.136129</td>\n",
              "      <td>23</td>\n",
              "      <td>13</td>\n",
              "      <td>9</td>\n",
              "      <td>16</td>\n",
              "    </tr>\n",
              "    <tr>\n",
              "      <th>...</th>\n",
              "      <td>...</td>\n",
              "      <td>...</td>\n",
              "      <td>...</td>\n",
              "      <td>...</td>\n",
              "      <td>...</td>\n",
              "      <td>...</td>\n",
              "      <td>...</td>\n",
              "      <td>...</td>\n",
              "    </tr>\n",
              "    <tr>\n",
              "      <th>2800115</th>\n",
              "      <td>20.03.15 22:37:56.643</td>\n",
              "      <td>30.125560</td>\n",
              "      <td>-53.604668</td>\n",
              "      <td>11.291187</td>\n",
              "      <td>3</td>\n",
              "      <td>12</td>\n",
              "      <td>5</td>\n",
              "      <td>9</td>\n",
              "    </tr>\n",
              "    <tr>\n",
              "      <th>2800120</th>\n",
              "      <td>20.03.15 22:37:56.741</td>\n",
              "      <td>29.985853</td>\n",
              "      <td>-53.518852</td>\n",
              "      <td>11.463013</td>\n",
              "      <td>3</td>\n",
              "      <td>12</td>\n",
              "      <td>5</td>\n",
              "      <td>9</td>\n",
              "    </tr>\n",
              "    <tr>\n",
              "      <th>2800125</th>\n",
              "      <td>20.03.15 22:37:56.841</td>\n",
              "      <td>29.366241</td>\n",
              "      <td>-53.408855</td>\n",
              "      <td>11.626441</td>\n",
              "      <td>3</td>\n",
              "      <td>12</td>\n",
              "      <td>5</td>\n",
              "      <td>9</td>\n",
              "    </tr>\n",
              "    <tr>\n",
              "      <th>2800130</th>\n",
              "      <td>20.03.15 22:37:56.942</td>\n",
              "      <td>29.134687</td>\n",
              "      <td>-53.354440</td>\n",
              "      <td>11.729003</td>\n",
              "      <td>3</td>\n",
              "      <td>12</td>\n",
              "      <td>5</td>\n",
              "      <td>9</td>\n",
              "    </tr>\n",
              "    <tr>\n",
              "      <th>2800135</th>\n",
              "      <td>20.03.15 22:37:57.042</td>\n",
              "      <td>29.123257</td>\n",
              "      <td>-53.434483</td>\n",
              "      <td>11.673043</td>\n",
              "      <td>3</td>\n",
              "      <td>12</td>\n",
              "      <td>5</td>\n",
              "      <td>9</td>\n",
              "    </tr>\n",
              "  </tbody>\n",
              "</table>\n",
              "<p>4468911 rows × 8 columns</p>\n",
              "</div>"
            ],
            "text/plain": [
              "                     attr_time  ...  label_posture_enc\n",
              "0        11.03.15 07:58:37.607  ...                 16\n",
              "5        11.03.15 07:58:37.706  ...                 16\n",
              "10       11.03.15 07:58:37.811  ...                 16\n",
              "15       11.03.15 07:58:37.906  ...                 16\n",
              "20       11.03.15 07:58:38.013  ...                 16\n",
              "...                        ...  ...                ...\n",
              "2800115  20.03.15 22:37:56.643  ...                  9\n",
              "2800120  20.03.15 22:37:56.741  ...                  9\n",
              "2800125  20.03.15 22:37:56.841  ...                  9\n",
              "2800130  20.03.15 22:37:56.942  ...                  9\n",
              "2800135  20.03.15 22:37:57.042  ...                  9\n",
              "\n",
              "[4468911 rows x 8 columns]"
            ]
          },
          "metadata": {
            "tags": []
          },
          "execution_count": 46
        }
      ]
    },
    {
      "cell_type": "code",
      "metadata": {
        "colab": {
          "base_uri": "https://localhost:8080/"
        },
        "id": "3ei0MJvpTcdW",
        "outputId": "bc1c0230-af7e-4792-d8f2-b92b05292f5c"
      },
      "source": [
        "from google.colab import drive\n",
        "drive.mount('/content/datadrive')"
      ],
      "execution_count": 48,
      "outputs": [
        {
          "output_type": "stream",
          "text": [
            "Mounted at /content/datadrive\n"
          ],
          "name": "stdout"
        }
      ]
    },
    {
      "cell_type": "code",
      "metadata": {
        "id": "EkZXj7wgeunD"
      },
      "source": [
        "%mkdir /content/datadrive/MyDrive/ML4QS/Assignment3\n"
      ],
      "execution_count": 49,
      "outputs": []
    },
    {
      "cell_type": "code",
      "metadata": {
        "id": "jscH9FrngQF8"
      },
      "source": [
        "cols = list(train_df_enc.columns)"
      ],
      "execution_count": 57,
      "outputs": []
    },
    {
      "cell_type": "code",
      "metadata": {
        "id": "m810-tqdgcJD"
      },
      "source": [
        "cols.remove('activity_target')"
      ],
      "execution_count": 62,
      "outputs": []
    },
    {
      "cell_type": "code",
      "metadata": {
        "id": "VqPQ_pqngrDX"
      },
      "source": [
        "cols = ['activity_target'] + cols"
      ],
      "execution_count": 63,
      "outputs": []
    },
    {
      "cell_type": "code",
      "metadata": {
        "id": "WrLkEKB0eoDf"
      },
      "source": [
        "train_df.to_csv('/content/datadrive/MyDrive/ML4QS/Assignment3/train_df.csv')"
      ],
      "execution_count": 79,
      "outputs": []
    },
    {
      "cell_type": "code",
      "metadata": {
        "id": "rxNVXpuUfDlG"
      },
      "source": [
        "train_df_enc.to_csv('/content/datadrive/MyDrive/ML4QS/Assignment3/train_df_enc.csv')"
      ],
      "execution_count": 82,
      "outputs": []
    },
    {
      "cell_type": "code",
      "metadata": {
        "colab": {
          "base_uri": "https://localhost:8080/"
        },
        "id": "GTF6Ng7GhaTk",
        "outputId": "d36f6513-2ef2-4461-e2cd-1b9f316a2c3f"
      },
      "source": [
        "combined_test_dfs = []\n",
        "for s in range(1, 8): #for every subject\n",
        "  dir = 'dailylog_data/subject{0}/data/'.format(s)\n",
        "  dfs = []\n",
        "  read_days = 0\n",
        "  i = 13\n",
        "  while i > 0 and read_days <= 1: #for first 2 days of observation\n",
        "    filename = 'SensorOrientationData_labeled_day{0}.csv'.format(i)\n",
        "    path = dir + filename\n",
        "    try:\n",
        "      df = pd.read_csv(path) #read in data from csv\n",
        "      df = df.iloc[::5]\n",
        "      df = df[df.label_valid == True]\n",
        "      dfs.append(df)\n",
        "      read_days += 1\n",
        "    except FileNotFoundError:\n",
        "      print('Skipping day {0} for subject {1}'.format(i, s))\n",
        "    i -= 1\n",
        "    \n",
        "  if len(dfs) > 0:  \n",
        "    combined = pd.concat(dfs) #concatenate all days into a single dataframe\n",
        "    combined['subject'] = s #add a column identifying the subject\n",
        "    combined_test_dfs.append(combined) #add dataframe to list of combined dataframes\n",
        "\n",
        "test_df = pd.concat(combined_test_dfs)\n"
      ],
      "execution_count": 85,
      "outputs": [
        {
          "output_type": "stream",
          "text": [
            "Skipping day 13 for subject 3\n",
            "Skipping day 12 for subject 3\n",
            "Skipping day 11 for subject 3\n",
            "Skipping day 13 for subject 4\n",
            "Skipping day 13 for subject 5\n",
            "Skipping day 12 for subject 5\n",
            "Skipping day 11 for subject 5\n",
            "Skipping day 10 for subject 5\n",
            "Skipping day 9 for subject 5\n",
            "Skipping day 8 for subject 5\n",
            "Skipping day 7 for subject 5\n",
            "Skipping day 6 for subject 5\n",
            "Skipping day 5 for subject 5\n",
            "Skipping day 4 for subject 5\n",
            "Skipping day 3 for subject 5\n",
            "Skipping day 2 for subject 5\n",
            "Skipping day 1 for subject 5\n",
            "Skipping day 13 for subject 6\n",
            "Skipping day 12 for subject 6\n",
            "Skipping day 11 for subject 6\n",
            "Skipping day 10 for subject 6\n",
            "Skipping day 13 for subject 7\n",
            "Skipping day 12 for subject 7\n"
          ],
          "name": "stdout"
        }
      ]
    },
    {
      "cell_type": "code",
      "metadata": {
        "id": "Poqi1gSzh5yo"
      },
      "source": [
        "def encode_df(df, cols):\n",
        "  encoders = []\n",
        "  for col in cols:\n",
        "    enc = sklearn.preprocessing.LabelEncoder()\n",
        "    enc.fit(df[col].unique())\n",
        "    df[col+'_enc'] = enc.transform(df[col])\n",
        "    encoders.append(enc)\n",
        "  return df, encoders\n"
      ],
      "execution_count": 86,
      "outputs": []
    },
    {
      "cell_type": "code",
      "metadata": {
        "id": "tTKYizUbh5ys"
      },
      "source": [
        "test_df_enc, test_encoders = encode_df(test_df, ['label_activity', 'label_environment', 'label_deviceposition', 'label_posture', 'label_valid'])"
      ],
      "execution_count": 87,
      "outputs": []
    },
    {
      "cell_type": "code",
      "metadata": {
        "id": "XtD4JJ6wBZQo"
      },
      "source": [
        "test_df_enc.drop(columns=['label_activity', 'label_environment', 'label_deviceposition', 'label_posture', 'label_valid'], inplace=True)"
      ],
      "execution_count": 90,
      "outputs": []
    },
    {
      "cell_type": "code",
      "metadata": {
        "id": "kqnuvf4lgIYN"
      },
      "source": [
        "test_df.to_csv('/content/datadrive/MyDrive/ML4QS/Assignment3/test_df.csv')"
      ],
      "execution_count": 96,
      "outputs": []
    },
    {
      "cell_type": "code",
      "metadata": {
        "colab": {
          "base_uri": "https://localhost:8080/",
          "height": 171
        },
        "id": "_UAFvf15gIYk",
        "outputId": "38c309b5-a632-4177-bda9-db603b848f52"
      },
      "source": [
        "test_df_enc.to_csv('/content/datadrive/MyDrive/ML4QS/Assignment3/test_df_enc.csv')"
      ],
      "execution_count": 1,
      "outputs": [
        {
          "output_type": "error",
          "ename": "NameError",
          "evalue": "ignored",
          "traceback": [
            "\u001b[0;31m---------------------------------------------------------------------------\u001b[0m",
            "\u001b[0;31mNameError\u001b[0m                                 Traceback (most recent call last)",
            "\u001b[0;32m<ipython-input-1-1f51652e1186>\u001b[0m in \u001b[0;36m<module>\u001b[0;34m()\u001b[0m\n\u001b[0;32m----> 1\u001b[0;31m \u001b[0mtest_df_enc\u001b[0m\u001b[0;34m.\u001b[0m\u001b[0mto_csv\u001b[0m\u001b[0;34m(\u001b[0m\u001b[0;34m'/content/datadrive/MyDrive/ML4QS/Assignment3/test_df_enc.csv'\u001b[0m\u001b[0;34m)\u001b[0m\u001b[0;34m\u001b[0m\u001b[0;34m\u001b[0m\u001b[0m\n\u001b[0m",
            "\u001b[0;31mNameError\u001b[0m: name 'test_df_enc' is not defined"
          ]
        }
      ]
    }
  ]
}